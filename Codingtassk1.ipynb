{
  "nbformat": 4,
  "nbformat_minor": 0,
  "metadata": {
    "colab": {
      "name": "Codingtassk1.ipynb",
      "provenance": [],
      "collapsed_sections": [],
      "mount_file_id": "1EW8mV0c2w9FUuAZLR4g9-E_qLGM8Pg89",
      "authorship_tag": "ABX9TyMkCViPDLAIoXmVPlC8a2c+",
      "include_colab_link": true
    },
    "kernelspec": {
      "name": "python3",
      "display_name": "Python 3"
    },
    "language_info": {
      "name": "python"
    }
  },
  "cells": [
    {
      "cell_type": "markdown",
      "metadata": {
        "id": "view-in-github",
        "colab_type": "text"
      },
      "source": [
        "<a href=\"https://colab.research.google.com/github/DajaKrummenacher/Data-Science-FS22-DajaKrummenacher/blob/main/Codingtassk1.ipynb\" target=\"_parent\"><img src=\"https://colab.research.google.com/assets/colab-badge.svg\" alt=\"Open In Colab\"/></a>"
      ]
    },
    {
      "cell_type": "code",
      "execution_count": 1,
      "metadata": {
        "colab": {
          "base_uri": "https://localhost:8080/"
        },
        "id": "tITIA3PhtAxh",
        "outputId": "0e3657a1-5b57-4d85-91bd-50ef4c2df817"
      },
      "outputs": [
        {
          "output_type": "stream",
          "name": "stdout",
          "text": [
            "Drive already mounted at /content/drive; to attempt to forcibly remount, call drive.mount(\"/content/drive\", force_remount=True).\n"
          ]
        }
      ],
      "source": [
        "from google.colab import drive\n",
        "drive.mount('/content/drive')\n",
        "path1 = '/content/drive/MyDrive/Data Science Repo/4ms_10 av_30 s_Absorbance_10-32-04-868 (1).txt'\n",
        "\n"
      ]
    },
    {
      "cell_type": "code",
      "source": [
        "with open(path1, 'r') as meta1:\n",
        "  textlines = meta1.readlines()\n",
        "\n",
        "content = ''\n",
        "for i in range(13):\n",
        "  content += textlines[i]\n",
        "\n",
        "with open('/content/drive/MyDrive/Data Science Repo/CCD-Data_Header.txt', 'w') as meta2:\n",
        "  meta2.write(content)"
      ],
      "metadata": {
        "id": "ZWfS6orQucQG"
      },
      "execution_count": 2,
      "outputs": []
    },
    {
      "cell_type": "code",
      "source": [
        "with open(path1, 'r') as meta1:\n",
        "  textlines = meta1.readlines()\n",
        "\n",
        "content = ''\n",
        "for i in range(14, len(textlines)):\n",
        "  content += textlines[i]\n",
        "\n",
        "print('CCD-Data has ',len(textlines)-15, 'time stamps.') #can also find out about info on the dataframe there is will show how many row there are, or you could do it with a loop\n",
        "\n",
        "with open('/content/drive/MyDrive/Data Science Repo/CCD-Data.csv', 'w') as meta3:\n",
        "  meta3.write(content)"
      ],
      "metadata": {
        "colab": {
          "base_uri": "https://localhost:8080/"
        },
        "id": "_YphciKouUC4",
        "outputId": "fdd66dbe-edce-46c8-8c79-9f49cfabdd85"
      },
      "execution_count": 3,
      "outputs": [
        {
          "output_type": "stream",
          "name": "stdout",
          "text": [
            "CCD-Data has  355 time stamps.\n"
          ]
        }
      ]
    },
    {
      "cell_type": "code",
      "source": [
        "import pandas as pd\n",
        "import numpy as np\n",
        "\n",
        "data = pd.read_csv('/content/drive/MyDrive/Data Science Repo/CCD-Data.csv', delimiter='\\t', header = 0)\n",
        "data.head()"
      ],
      "metadata": {
        "colab": {
          "base_uri": "https://localhost:8080/",
          "height": 382
        },
        "id": "GZdoD_jCvHTY",
        "outputId": "20e085b5-12d2-4f9d-b7e2-5610cb3cf89f"
      },
      "execution_count": 4,
      "outputs": [
        {
          "output_type": "execute_result",
          "data": {
            "text/plain": [
              "                   Unnamed: 0     Unnamed: 1  316.6137  316.7492  316.8847  \\\n",
              "0  2018-10-25 10:32:04.789000  1540456324789  0.329672  0.329672  0.329672   \n",
              "1  2018-10-25 10:32:04.878000  1540456324878 -0.044412 -0.044412 -0.044412   \n",
              "2  2018-10-25 10:32:04.962000  1540456324962  0.338219  0.338219  0.338219   \n",
              "3  2018-10-25 10:32:05.046000  1540456325046 -0.049682 -0.049682 -0.049682   \n",
              "4  2018-10-25 10:32:05.129000  1540456325129  0.335086  0.335086  0.335086   \n",
              "\n",
              "   317.0203  317.1558  317.2913  317.4268  317.5623  ...  778.9703   779.089  \\\n",
              "0  0.090294 -0.716926 -1.829304 -0.686330 -0.428776  ... -0.038483 -0.039623   \n",
              "1  0.157632 -0.672423 -2.183981 -0.492421 -0.000000  ... -0.039428 -0.038486   \n",
              "2  0.330993 -0.879836 -0.000000 -0.559845 -0.000000  ... -0.037725 -0.037534   \n",
              "3  0.519086 -0.681150 -0.000000 -0.417230 -0.000000  ... -0.037613 -0.037168   \n",
              "4 -0.041393 -0.000000 -1.802774 -0.510417 -0.000000  ... -0.040919 -0.038288   \n",
              "\n",
              "   779.2076  779.3263  779.4449  779.5636  779.6822  779.8008  779.9194  \\\n",
              "0 -0.036920 -0.037309 -0.037299 -0.037476 -0.036856 -0.036853 -0.039100   \n",
              "1 -0.037309 -0.036357 -0.037289 -0.038728 -0.037214 -0.036902 -0.040210   \n",
              "2 -0.036560 -0.036152 -0.036554 -0.036875 -0.037351 -0.036746 -0.038686   \n",
              "3 -0.036369 -0.034549 -0.036252 -0.037948 -0.036713 -0.035706 -0.038203   \n",
              "4 -0.035840 -0.035638 -0.039504 -0.040093 -0.039953 -0.037656 -0.038082   \n",
              "\n",
              "   780.0381  \n",
              "0 -0.035545  \n",
              "1 -0.038165  \n",
              "2 -0.036903  \n",
              "3 -0.036822  \n",
              "4 -0.035900  \n",
              "\n",
              "[5 rows x 3650 columns]"
            ],
            "text/html": [
              "\n",
              "  <div id=\"df-f4b24e47-c5b8-4584-9e59-fd7242cf66f3\">\n",
              "    <div class=\"colab-df-container\">\n",
              "      <div>\n",
              "<style scoped>\n",
              "    .dataframe tbody tr th:only-of-type {\n",
              "        vertical-align: middle;\n",
              "    }\n",
              "\n",
              "    .dataframe tbody tr th {\n",
              "        vertical-align: top;\n",
              "    }\n",
              "\n",
              "    .dataframe thead th {\n",
              "        text-align: right;\n",
              "    }\n",
              "</style>\n",
              "<table border=\"1\" class=\"dataframe\">\n",
              "  <thead>\n",
              "    <tr style=\"text-align: right;\">\n",
              "      <th></th>\n",
              "      <th>Unnamed: 0</th>\n",
              "      <th>Unnamed: 1</th>\n",
              "      <th>316.6137</th>\n",
              "      <th>316.7492</th>\n",
              "      <th>316.8847</th>\n",
              "      <th>317.0203</th>\n",
              "      <th>317.1558</th>\n",
              "      <th>317.2913</th>\n",
              "      <th>317.4268</th>\n",
              "      <th>317.5623</th>\n",
              "      <th>...</th>\n",
              "      <th>778.9703</th>\n",
              "      <th>779.089</th>\n",
              "      <th>779.2076</th>\n",
              "      <th>779.3263</th>\n",
              "      <th>779.4449</th>\n",
              "      <th>779.5636</th>\n",
              "      <th>779.6822</th>\n",
              "      <th>779.8008</th>\n",
              "      <th>779.9194</th>\n",
              "      <th>780.0381</th>\n",
              "    </tr>\n",
              "  </thead>\n",
              "  <tbody>\n",
              "    <tr>\n",
              "      <th>0</th>\n",
              "      <td>2018-10-25 10:32:04.789000</td>\n",
              "      <td>1540456324789</td>\n",
              "      <td>0.329672</td>\n",
              "      <td>0.329672</td>\n",
              "      <td>0.329672</td>\n",
              "      <td>0.090294</td>\n",
              "      <td>-0.716926</td>\n",
              "      <td>-1.829304</td>\n",
              "      <td>-0.686330</td>\n",
              "      <td>-0.428776</td>\n",
              "      <td>...</td>\n",
              "      <td>-0.038483</td>\n",
              "      <td>-0.039623</td>\n",
              "      <td>-0.036920</td>\n",
              "      <td>-0.037309</td>\n",
              "      <td>-0.037299</td>\n",
              "      <td>-0.037476</td>\n",
              "      <td>-0.036856</td>\n",
              "      <td>-0.036853</td>\n",
              "      <td>-0.039100</td>\n",
              "      <td>-0.035545</td>\n",
              "    </tr>\n",
              "    <tr>\n",
              "      <th>1</th>\n",
              "      <td>2018-10-25 10:32:04.878000</td>\n",
              "      <td>1540456324878</td>\n",
              "      <td>-0.044412</td>\n",
              "      <td>-0.044412</td>\n",
              "      <td>-0.044412</td>\n",
              "      <td>0.157632</td>\n",
              "      <td>-0.672423</td>\n",
              "      <td>-2.183981</td>\n",
              "      <td>-0.492421</td>\n",
              "      <td>-0.000000</td>\n",
              "      <td>...</td>\n",
              "      <td>-0.039428</td>\n",
              "      <td>-0.038486</td>\n",
              "      <td>-0.037309</td>\n",
              "      <td>-0.036357</td>\n",
              "      <td>-0.037289</td>\n",
              "      <td>-0.038728</td>\n",
              "      <td>-0.037214</td>\n",
              "      <td>-0.036902</td>\n",
              "      <td>-0.040210</td>\n",
              "      <td>-0.038165</td>\n",
              "    </tr>\n",
              "    <tr>\n",
              "      <th>2</th>\n",
              "      <td>2018-10-25 10:32:04.962000</td>\n",
              "      <td>1540456324962</td>\n",
              "      <td>0.338219</td>\n",
              "      <td>0.338219</td>\n",
              "      <td>0.338219</td>\n",
              "      <td>0.330993</td>\n",
              "      <td>-0.879836</td>\n",
              "      <td>-0.000000</td>\n",
              "      <td>-0.559845</td>\n",
              "      <td>-0.000000</td>\n",
              "      <td>...</td>\n",
              "      <td>-0.037725</td>\n",
              "      <td>-0.037534</td>\n",
              "      <td>-0.036560</td>\n",
              "      <td>-0.036152</td>\n",
              "      <td>-0.036554</td>\n",
              "      <td>-0.036875</td>\n",
              "      <td>-0.037351</td>\n",
              "      <td>-0.036746</td>\n",
              "      <td>-0.038686</td>\n",
              "      <td>-0.036903</td>\n",
              "    </tr>\n",
              "    <tr>\n",
              "      <th>3</th>\n",
              "      <td>2018-10-25 10:32:05.046000</td>\n",
              "      <td>1540456325046</td>\n",
              "      <td>-0.049682</td>\n",
              "      <td>-0.049682</td>\n",
              "      <td>-0.049682</td>\n",
              "      <td>0.519086</td>\n",
              "      <td>-0.681150</td>\n",
              "      <td>-0.000000</td>\n",
              "      <td>-0.417230</td>\n",
              "      <td>-0.000000</td>\n",
              "      <td>...</td>\n",
              "      <td>-0.037613</td>\n",
              "      <td>-0.037168</td>\n",
              "      <td>-0.036369</td>\n",
              "      <td>-0.034549</td>\n",
              "      <td>-0.036252</td>\n",
              "      <td>-0.037948</td>\n",
              "      <td>-0.036713</td>\n",
              "      <td>-0.035706</td>\n",
              "      <td>-0.038203</td>\n",
              "      <td>-0.036822</td>\n",
              "    </tr>\n",
              "    <tr>\n",
              "      <th>4</th>\n",
              "      <td>2018-10-25 10:32:05.129000</td>\n",
              "      <td>1540456325129</td>\n",
              "      <td>0.335086</td>\n",
              "      <td>0.335086</td>\n",
              "      <td>0.335086</td>\n",
              "      <td>-0.041393</td>\n",
              "      <td>-0.000000</td>\n",
              "      <td>-1.802774</td>\n",
              "      <td>-0.510417</td>\n",
              "      <td>-0.000000</td>\n",
              "      <td>...</td>\n",
              "      <td>-0.040919</td>\n",
              "      <td>-0.038288</td>\n",
              "      <td>-0.035840</td>\n",
              "      <td>-0.035638</td>\n",
              "      <td>-0.039504</td>\n",
              "      <td>-0.040093</td>\n",
              "      <td>-0.039953</td>\n",
              "      <td>-0.037656</td>\n",
              "      <td>-0.038082</td>\n",
              "      <td>-0.035900</td>\n",
              "    </tr>\n",
              "  </tbody>\n",
              "</table>\n",
              "<p>5 rows × 3650 columns</p>\n",
              "</div>\n",
              "      <button class=\"colab-df-convert\" onclick=\"convertToInteractive('df-f4b24e47-c5b8-4584-9e59-fd7242cf66f3')\"\n",
              "              title=\"Convert this dataframe to an interactive table.\"\n",
              "              style=\"display:none;\">\n",
              "        \n",
              "  <svg xmlns=\"http://www.w3.org/2000/svg\" height=\"24px\"viewBox=\"0 0 24 24\"\n",
              "       width=\"24px\">\n",
              "    <path d=\"M0 0h24v24H0V0z\" fill=\"none\"/>\n",
              "    <path d=\"M18.56 5.44l.94 2.06.94-2.06 2.06-.94-2.06-.94-.94-2.06-.94 2.06-2.06.94zm-11 1L8.5 8.5l.94-2.06 2.06-.94-2.06-.94L8.5 2.5l-.94 2.06-2.06.94zm10 10l.94 2.06.94-2.06 2.06-.94-2.06-.94-.94-2.06-.94 2.06-2.06.94z\"/><path d=\"M17.41 7.96l-1.37-1.37c-.4-.4-.92-.59-1.43-.59-.52 0-1.04.2-1.43.59L10.3 9.45l-7.72 7.72c-.78.78-.78 2.05 0 2.83L4 21.41c.39.39.9.59 1.41.59.51 0 1.02-.2 1.41-.59l7.78-7.78 2.81-2.81c.8-.78.8-2.07 0-2.86zM5.41 20L4 18.59l7.72-7.72 1.47 1.35L5.41 20z\"/>\n",
              "  </svg>\n",
              "      </button>\n",
              "      \n",
              "  <style>\n",
              "    .colab-df-container {\n",
              "      display:flex;\n",
              "      flex-wrap:wrap;\n",
              "      gap: 12px;\n",
              "    }\n",
              "\n",
              "    .colab-df-convert {\n",
              "      background-color: #E8F0FE;\n",
              "      border: none;\n",
              "      border-radius: 50%;\n",
              "      cursor: pointer;\n",
              "      display: none;\n",
              "      fill: #1967D2;\n",
              "      height: 32px;\n",
              "      padding: 0 0 0 0;\n",
              "      width: 32px;\n",
              "    }\n",
              "\n",
              "    .colab-df-convert:hover {\n",
              "      background-color: #E2EBFA;\n",
              "      box-shadow: 0px 1px 2px rgba(60, 64, 67, 0.3), 0px 1px 3px 1px rgba(60, 64, 67, 0.15);\n",
              "      fill: #174EA6;\n",
              "    }\n",
              "\n",
              "    [theme=dark] .colab-df-convert {\n",
              "      background-color: #3B4455;\n",
              "      fill: #D2E3FC;\n",
              "    }\n",
              "\n",
              "    [theme=dark] .colab-df-convert:hover {\n",
              "      background-color: #434B5C;\n",
              "      box-shadow: 0px 1px 3px 1px rgba(0, 0, 0, 0.15);\n",
              "      filter: drop-shadow(0px 1px 2px rgba(0, 0, 0, 0.3));\n",
              "      fill: #FFFFFF;\n",
              "    }\n",
              "  </style>\n",
              "\n",
              "      <script>\n",
              "        const buttonEl =\n",
              "          document.querySelector('#df-f4b24e47-c5b8-4584-9e59-fd7242cf66f3 button.colab-df-convert');\n",
              "        buttonEl.style.display =\n",
              "          google.colab.kernel.accessAllowed ? 'block' : 'none';\n",
              "\n",
              "        async function convertToInteractive(key) {\n",
              "          const element = document.querySelector('#df-f4b24e47-c5b8-4584-9e59-fd7242cf66f3');\n",
              "          const dataTable =\n",
              "            await google.colab.kernel.invokeFunction('convertToInteractive',\n",
              "                                                     [key], {});\n",
              "          if (!dataTable) return;\n",
              "\n",
              "          const docLinkHtml = 'Like what you see? Visit the ' +\n",
              "            '<a target=\"_blank\" href=https://colab.research.google.com/notebooks/data_table.ipynb>data table notebook</a>'\n",
              "            + ' to learn more about interactive tables.';\n",
              "          element.innerHTML = '';\n",
              "          dataTable['output_type'] = 'display_data';\n",
              "          await google.colab.output.renderOutput(dataTable, element);\n",
              "          const docLink = document.createElement('div');\n",
              "          docLink.innerHTML = docLinkHtml;\n",
              "          element.appendChild(docLink);\n",
              "        }\n",
              "      </script>\n",
              "    </div>\n",
              "  </div>\n",
              "  "
            ]
          },
          "metadata": {},
          "execution_count": 4
        }
      ]
    },
    {
      "cell_type": "code",
      "source": [
        "\"\"\"\n",
        "For Loop - 1 nm steps\n",
        "\"\"\"\n",
        "%%timeit -n 10000 -r 5 \n",
        "\n",
        "from math import floor\n",
        "import pandas as pd\n",
        "\n",
        "ref = floor(float(data.columns[2]))\n",
        "res_frame = pd.DataFrame({})\n",
        "\n",
        "for i in range(len(data.columns[:])):\n",
        "  sum_same_wl = np.zeros(data.shape[0])\n",
        "  mean_same_wl = np.zeros(data.shape[0])\n",
        "  if i == 0 or i == 1:\n",
        "    res_frame[data.columns[i]] = data.iloc[1:, i].values\n",
        "    continue\n",
        "  if floor(float(data.columns[i])) == ref:\n",
        "    for j in range(len(data.columns[i:])):\n",
        "      if floor(float(data.columns[i + j])) == ref:\n",
        "        sum_same_wl += data.iloc[:, i].values.astype(float)\n",
        "      else:\n",
        "        mean_same_wl = sum_same_wl[1:] / (j + 1)\n",
        "        res_frame[str(ref)] = mean_same_wl\n",
        "        ref = floor(float(data.columns[i + j]))\n",
        "        break\n",
        "res_frame.to_csv('drive/MyDrive/Data Science Repo/CCS-Data_average_1nm_loop.csv')\n",
        "    "
      ],
      "metadata": {
        "colab": {
          "base_uri": "https://localhost:8080/",
          "height": 130
        },
        "id": "Ot6vPdvKy8zX",
        "outputId": "01018ff0-747d-4629-d7c7-c11d0018ae3e"
      },
      "execution_count": 146,
      "outputs": [
        {
          "output_type": "error",
          "ename": "SyntaxError",
          "evalue": "ignored",
          "traceback": [
            "\u001b[0;36m  File \u001b[0;32m\"<ipython-input-146-96cd5ef9fba0>\"\u001b[0;36m, line \u001b[0;32m4\u001b[0m\n\u001b[0;31m    %%timeit -n 10000 -r 5\u001b[0m\n\u001b[0m    ^\u001b[0m\n\u001b[0;31mSyntaxError\u001b[0m\u001b[0;31m:\u001b[0m invalid syntax\n"
          ]
        }
      ]
    },
    {
      "cell_type": "code",
      "source": [
        "\"\"\"\n",
        "For Loop - 2 nm steps\n",
        "\"\"\"\n",
        "\n",
        "from math import floor\n",
        "import pandas as pd\n",
        "\n",
        "ref = floor(float(data.columns[2]))\n",
        "res_frame = pd.DataFrame({})\n",
        "\n",
        "for i in range(len(data.columns[:])):\n",
        "  sum_same_wl = np.zeros(data.shape[0])\n",
        "  mean_same_wl = np.zeros(data.shape[0])\n",
        "  if i == 0 or i == 1:\n",
        "    res_frame[data.columns[i]] = data.iloc[1:, i].values\n",
        "    continue\n",
        "  if ref <= floor(float(data.columns[i])) <= ref + 1:\n",
        "    for j in range(len(data.columns[i:])):\n",
        "      if ref <= floor(float(data.columns[i + j])) <= ref + 1:\n",
        "        sum_same_wl += data.iloc[:, i].values.astype(float)\n",
        "      else:\n",
        "        mean_same_wl = sum_same_wl[1:] / (j + 1)\n",
        "        res_frame[str(ref) + ' - ' + str(ref + 1)] = mean_same_wl\n",
        "        ref = floor(float(data.columns[i + j]))\n",
        "        break\n",
        "res_frame.to_csv('drive/MyDrive/Data Science Repo/CCS-Data_average_2nm_loop.csv')"
      ],
      "metadata": {
        "colab": {
          "base_uri": "https://localhost:8080/"
        },
        "id": "jrXbCEGcOD1i",
        "outputId": "fc5ee06e-c600-41b0-f59c-c8ca902b2413"
      },
      "execution_count": 94,
      "outputs": [
        {
          "output_type": "stream",
          "name": "stderr",
          "text": [
            "/usr/local/lib/python3.7/dist-packages/ipykernel_launcher.py:23: PerformanceWarning: DataFrame is highly fragmented.  This is usually the result of calling `frame.insert` many times, which has poor performance.  Consider joining all columns at once using pd.concat(axis=1) instead.  To get a de-fragmented frame, use `newframe = frame.copy()`\n"
          ]
        }
      ]
    },
    {
      "cell_type": "code",
      "source": [
        "\"\"\"\n",
        "For Loop - 3 nm steps\n",
        "\"\"\"\n",
        "\n",
        "import pandas as pd\n",
        "\n",
        "ref = floor(float(data.columns[2]))\n",
        "res_frame = pd.DataFrame({})\n",
        "\n",
        "for i in range(len(data.columns[:])):\n",
        "  sum_same_wl = np.zeros(data.shape[0])\n",
        "  mean_same_wl = np.zeros(data.shape[0])\n",
        "  if i == 0 or i == 1:\n",
        "    res_frame[data.columns[i]] = data.iloc[1:, i].values\n",
        "    continue\n",
        "  if ref <= floor(float(data.columns[i])) <= ref + 2:\n",
        "    for j in range(len(data.columns[i:])):\n",
        "      if ref <= floor(float(data.columns[i + j])) <= ref + 2:\n",
        "        sum_same_wl += data.iloc[:, i].values.astype(float)\n",
        "      else:\n",
        "        mean_same_wl = sum_same_wl[1:] / (j + 1)\n",
        "        res_frame[str(ref) + ' - ' + str(ref + 2)] = mean_same_wl\n",
        "        ref = floor(float(data.columns[i + j]))\n",
        "        break\n",
        "res_frame.to_csv('drive/MyDrive/Data Science Repo/CCS-Data_average_3nm_loop.csv')"
      ],
      "metadata": {
        "colab": {
          "base_uri": "https://localhost:8080/"
        },
        "id": "GBgTX7l3ZqUG",
        "outputId": "dcd76e8d-9fb6-4b4d-c126-fdd1a7eb6161"
      },
      "execution_count": 95,
      "outputs": [
        {
          "output_type": "stream",
          "name": "stderr",
          "text": [
            "/usr/local/lib/python3.7/dist-packages/ipykernel_launcher.py:22: PerformanceWarning: DataFrame is highly fragmented.  This is usually the result of calling `frame.insert` many times, which has poor performance.  Consider joining all columns at once using pd.concat(axis=1) instead.  To get a de-fragmented frame, use `newframe = frame.copy()`\n"
          ]
        }
      ]
    },
    {
      "cell_type": "code",
      "source": [
        "\"\"\"\n",
        "For Loop - 4 nm steps\n",
        "\"\"\"\n",
        "\n",
        "from math import floor\n",
        "import pandas as pd\n",
        "\n",
        "ref = floor(float(data.columns[2]))\n",
        "res_frame = pd.DataFrame({})\n",
        "\n",
        "for i in range(len(data.columns[:])):\n",
        "  sum_same_wl = np.zeros(data.shape[0])\n",
        "  mean_same_wl = np.zeros(data.shape[0])\n",
        "  if i == 0 or i == 1:\n",
        "    res_frame[data.columns[i]] = data.iloc[1:, i].values\n",
        "    continue\n",
        "  if ref <= floor(float(data.columns[i])) <= ref + 3:\n",
        "    for j in range(len(data.columns[i:])):\n",
        "      if ref <= floor(float(data.columns[i + j])) <= ref + 3:\n",
        "        sum_same_wl += data.iloc[:, i].values.astype(float)\n",
        "      else:\n",
        "        mean_same_wl = sum_same_wl[1:] / (j + 1)\n",
        "        res_frame[str(ref) + ' - ' + str(ref + 3)] = mean_same_wl\n",
        "        ref = floor(float(data.columns[i + j]))\n",
        "        break\n",
        "res_frame.to_csv('drive/MyDrive/Data Science Repo/CCS-Data_average_4nm_loop.csv')"
      ],
      "metadata": {
        "colab": {
          "base_uri": "https://localhost:8080/"
        },
        "id": "GUYqjgT8P1Fo",
        "outputId": "6176f172-1342-4f64-9b1a-ccde4b1376de"
      },
      "execution_count": 96,
      "outputs": [
        {
          "output_type": "stream",
          "name": "stderr",
          "text": [
            "/usr/local/lib/python3.7/dist-packages/ipykernel_launcher.py:23: PerformanceWarning: DataFrame is highly fragmented.  This is usually the result of calling `frame.insert` many times, which has poor performance.  Consider joining all columns at once using pd.concat(axis=1) instead.  To get a de-fragmented frame, use `newframe = frame.copy()`\n"
          ]
        }
      ]
    },
    {
      "cell_type": "code",
      "source": [
        "\"\"\"\n",
        "Pandas - 1 nm steps\n",
        "\"\"\"\n",
        "\n",
        "import pandas as pd\n",
        "import numpy as np\n",
        "\n",
        "res_frame = pd.DataFrame({data.columns[0]: data.iloc[1:, 0].values, data.columns[1]: data.iloc[1:, 1].values})\n",
        "\n",
        "def handle_range(value):\n",
        "  mask = data.columns[2:].values.astype(float).astype(int) == value\n",
        "  mask = np.hstack([False, False, mask])\n",
        "  res_frame[str(value)] = data.iloc[:, mask].mean(axis=1)\n",
        "\n",
        "values = np.arange(316, 780)\n",
        "for i in values:\n",
        "  handle_range(i)\n",
        "\n",
        "res_frame.to_csv('drive/MyDrive/Data Science Repo/CCS-Data_average_1nm_pd.csv')"
      ],
      "metadata": {
        "colab": {
          "base_uri": "https://localhost:8080/"
        },
        "id": "8_VGBztuTpEM",
        "outputId": "cea4059d-ca3f-4108-d28b-bc598f3f3e5a"
      },
      "execution_count": 149,
      "outputs": [
        {
          "output_type": "stream",
          "name": "stderr",
          "text": [
            "/usr/local/lib/python3.7/dist-packages/ipykernel_launcher.py:13: PerformanceWarning: DataFrame is highly fragmented.  This is usually the result of calling `frame.insert` many times, which has poor performance.  Consider joining all columns at once using pd.concat(axis=1) instead.  To get a de-fragmented frame, use `newframe = frame.copy()`\n",
            "  del sys.path[0]\n"
          ]
        }
      ]
    },
    {
      "cell_type": "code",
      "source": [
        "\"\"\"\n",
        "Pandas - 2 nm steps\n",
        "\"\"\"\n",
        "\n",
        "import pandas as pd\n",
        "import numpy as np\n",
        "\n",
        "res_frame = pd.DataFrame({data.columns[0]: data.iloc[1:, 0].values, data.columns[1]: data.iloc[1:, 1].values})\n",
        "\n",
        "def handle_range(value):\n",
        "  mask = data.columns[2:].values.astype(float).astype(int) == value\n",
        "  mask = np.hstack([False, False, mask])\n",
        "  res_frame[str(value) + ' - ' + str(value + 1)] = data.iloc[:, mask].mean(axis=1)\n",
        "\n",
        "values = np.arange(316, 780, step = 2)\n",
        "for i in values:\n",
        "  handle_range(i)\n",
        "\n",
        "res_frame.to_csv('drive/MyDrive/Data Science Repo/CCS-Data_average_2nm_pd.csv')"
      ],
      "metadata": {
        "colab": {
          "base_uri": "https://localhost:8080/"
        },
        "id": "0kQhRfQ84pcs",
        "outputId": "b2aee17e-8bf2-4000-da03-e973978fe8d1"
      },
      "execution_count": 137,
      "outputs": [
        {
          "output_type": "stream",
          "name": "stderr",
          "text": [
            "/usr/local/lib/python3.7/dist-packages/ipykernel_launcher.py:13: PerformanceWarning: DataFrame is highly fragmented.  This is usually the result of calling `frame.insert` many times, which has poor performance.  Consider joining all columns at once using pd.concat(axis=1) instead.  To get a de-fragmented frame, use `newframe = frame.copy()`\n",
            "  del sys.path[0]\n"
          ]
        }
      ]
    },
    {
      "cell_type": "code",
      "source": [
        "\"\"\"\n",
        "Pandas - 3 nm steps\n",
        "\"\"\"\n",
        "\n",
        "import pandas as pd\n",
        "import numpy as np\n",
        "\n",
        "res_frame = pd.DataFrame({data.columns[0]: data.iloc[1:, 0].values, data.columns[1]: data.iloc[1:, 1].values})\n",
        "\n",
        "def handle_range(value):\n",
        "  mask = data.columns[2:].values.astype(float).astype(int) == value\n",
        "  mask = np.hstack([False, False, mask])\n",
        "  res_frame[str(value) + ' - ' + str(value + 2)] = data.iloc[:, mask].mean(axis=1)\n",
        "\n",
        "values = np.arange(316, 780, step = 3)\n",
        "for i in values:\n",
        "  handle_range(i)\n",
        "\n",
        "res_frame.to_csv('drive/MyDrive/Data Science Repo/CCS-Data_average_3nm_pd.csv')"
      ],
      "metadata": {
        "colab": {
          "base_uri": "https://localhost:8080/"
        },
        "id": "nypaT7Bv5Mbt",
        "outputId": "a07f4876-5c48-4ebb-e5ff-a2658efcac82"
      },
      "execution_count": 139,
      "outputs": [
        {
          "output_type": "stream",
          "name": "stderr",
          "text": [
            "/usr/local/lib/python3.7/dist-packages/ipykernel_launcher.py:13: PerformanceWarning: DataFrame is highly fragmented.  This is usually the result of calling `frame.insert` many times, which has poor performance.  Consider joining all columns at once using pd.concat(axis=1) instead.  To get a de-fragmented frame, use `newframe = frame.copy()`\n",
            "  del sys.path[0]\n"
          ]
        }
      ]
    },
    {
      "cell_type": "code",
      "source": [
        "\"\"\"\n",
        "Pandas - 4 nm steps\n",
        "\"\"\"\n",
        "\n",
        "import pandas as pd\n",
        "import numpy as np\n",
        "\n",
        "res_frame = pd.DataFrame({data.columns[0]: data.iloc[1:, 0].values, data.columns[1]: data.iloc[1:, 1].values})\n",
        "\n",
        "def handle_range(value):\n",
        "  mask = data.columns[2:].values.astype(float).astype(int) == value\n",
        "  mask = np.hstack([False, False, mask])\n",
        "  res_frame[str(value) + ' - ' + str(value + 3)] = data.iloc[:, mask].mean(axis=1)\n",
        "\n",
        "values = np.arange(316, 780, step = 4)\n",
        "for i in values:\n",
        "  handle_range(i)\n",
        "\n",
        "res_frame.to_csv('drive/MyDrive/Data Science Repo/CCS-Data_average_4nm_pd.csv')"
      ],
      "metadata": {
        "colab": {
          "base_uri": "https://localhost:8080/"
        },
        "id": "MbWCpLIe5i6j",
        "outputId": "6898890d-c95c-4ea4-f468-9f81457b96fd"
      },
      "execution_count": 140,
      "outputs": [
        {
          "output_type": "stream",
          "name": "stderr",
          "text": [
            "/usr/local/lib/python3.7/dist-packages/ipykernel_launcher.py:13: PerformanceWarning: DataFrame is highly fragmented.  This is usually the result of calling `frame.insert` many times, which has poor performance.  Consider joining all columns at once using pd.concat(axis=1) instead.  To get a de-fragmented frame, use `newframe = frame.copy()`\n",
            "  del sys.path[0]\n"
          ]
        }
      ]
    },
    {
      "cell_type": "code",
      "source": [
        "type(data)\n",
        "data.info()"
      ],
      "metadata": {
        "colab": {
          "base_uri": "https://localhost:8080/"
        },
        "id": "vsO0CmNbv0iI",
        "outputId": "209b4ce6-e5fa-4788-8161-ff860d3a1d4b"
      },
      "execution_count": 5,
      "outputs": [
        {
          "output_type": "stream",
          "name": "stdout",
          "text": [
            "<class 'pandas.core.frame.DataFrame'>\n",
            "RangeIndex: 355 entries, 0 to 354\n",
            "Columns: 3650 entries, Unnamed: 0 to 780.0381\n",
            "dtypes: float64(3648), int64(1), object(1)\n",
            "memory usage: 9.9+ MB\n"
          ]
        }
      ]
    },
    {
      "cell_type": "code",
      "source": [
        "sum = data['317.5623']+ data['318.646']\n",
        "sum"
      ],
      "metadata": {
        "colab": {
          "base_uri": "https://localhost:8080/"
        },
        "id": "LMDGkDxJkvNi",
        "outputId": "90ad2082-97d9-408c-d1c4-6f30a59ed722"
      },
      "execution_count": 9,
      "outputs": [
        {
          "output_type": "execute_result",
          "data": {
            "text/plain": [
              "0     -0.521449\n",
              "1     -0.000000\n",
              "2      0.087267\n",
              "3     -0.000000\n",
              "4     -0.000000\n",
              "         ...   \n",
              "350   -0.000000\n",
              "351   -0.000000\n",
              "352    0.570461\n",
              "353    0.989215\n",
              "354   -0.241205\n",
              "Length: 355, dtype: float64"
            ]
          },
          "metadata": {},
          "execution_count": 9
        }
      ]
    },
    {
      "cell_type": "markdown",
      "source": [
        "Notes on coding task 1 from lecture. take 2 wavelengths and subtract them.\n",
        "a column can be accessed via name or via its position. "
      ],
      "metadata": {
        "id": "883DDHZaXAAk"
      }
    },
    {
      "cell_type": "code",
      "source": [
        "#data.to_csv('newCDD.csv') \n",
        "# to save the data in the file data to a new document\n",
        "#"
      ],
      "metadata": {
        "id": "ciTcTX8IXLMN"
      },
      "execution_count": 6,
      "outputs": []
    },
    {
      "cell_type": "code",
      "source": [
        "from matplotlib import colors\n",
        "import matplotlib.pyplot as plt\n",
        "\n",
        "\n",
        "def compare_wl(x_value, y_value):\n",
        "  plt.plot(x_value, y_value, color = \"red\")\n",
        "  plt.xlabel('time [s]')\n",
        "  plt.ylabel('Intensity [au]')\n",
        "  plt.title(str(data.columns[2000]) + 'nm - ' + (data.columns[3500]) + 'nm')\n",
        "  plt.legend(['Difference'])\n",
        "  plt.savefig('Difference.png')\n",
        "\n",
        "x = data.iloc[:,0]\n",
        "y = data.iloc[:, 2000] - data.iloc[:, 3500]\n",
        "\n",
        "x = [float(i[-9:]) - float(x[0][-9:]) for i in x]\n",
        "\n",
        "compare_wl(x, y)"
      ],
      "metadata": {
        "colab": {
          "base_uri": "https://localhost:8080/",
          "height": 295
        },
        "id": "K1nLEe-bYyNE",
        "outputId": "e55e407f-1d22-4280-8616-30db49eb23f8"
      },
      "execution_count": 187,
      "outputs": [
        {
          "output_type": "display_data",
          "data": {
            "text/plain": [
              "<Figure size 432x288 with 1 Axes>"
            ],
            "image/png": "[encoded data removed]"
          },
          "metadata": {
            "needs_background": "light"
          }
        }
      ]
    },
    {
      "cell_type": "code",
      "source": [
        "data.columns[2000]"
      ],
      "metadata": {
        "colab": {
          "base_uri": "https://localhost:8080/",
          "height": 37
        },
        "id": "DTIjbO9MRKJV",
        "outputId": "f86abfea-c5d1-4ae5-8460-757bdc03a0d7"
      },
      "execution_count": 172,
      "outputs": [
        {
          "output_type": "execute_result",
          "data": {
            "text/plain": [
              "'578.1367'"
            ],
            "application/vnd.google.colaboratory.intrinsic+json": {
              "type": "string"
            }
          },
          "metadata": {},
          "execution_count": 172
        }
      ]
    },
    {
      "cell_type": "code",
      "source": [
        "from matplotlib import colors\n",
        "import matplotlib.pyplot as plt\n",
        "\n",
        "data_or = pd.read_csv('/content/drive/MyDrive/Data Science Repo/CCD-Data.csv', delimiter='\\t', header = 0)\n",
        "data_1nm = pd.read_csv('/content/drive/MyDrive/Data Science Repo/CCS-Data_average_1nm_pd.csv', delimiter='\\t', header = 0)\n",
        "data_2nm = pd.read_csv('/content/drive/MyDrive/Data Science Repo/CCS-Data_average_2nm_pd.csv', delimiter='\\t', header = 0)\n",
        "data_3nm = pd.read_csv('/content/drive/MyDrive/Data Science Repo/CCS-Data_average_3nm_pd.csv', delimiter='\\t', header = 0)\n",
        "data_4nm = pd.read_csv('/content/drive/MyDrive/Data Science Repo/CCS-Data_average_4nm_pd.csv', delimiter='\\t', header = 0)\n",
        "\n",
        "\n",
        "def compare_wl(x_value, y_value):\n",
        "  ax.plot(x_value, y_value);\n",
        "  \n",
        "  #fig.savefig('Difference.png')\n",
        "\n",
        "\n",
        "fig, ax = plt.subplots()\n",
        "\n",
        "a = data_or.iloc[:,0]\n",
        "b = data_or.iloc[:, 2000] - data_or.iloc[:, 3500]\n",
        "a = [float(i[-9:]) - float(a[0][-9:]) for i in a]\n",
        "compare_wl(a, b)\n",
        "\n",
        "#c = data_1nm.iloc[:,0]\n",
        "#d = data_1nm.iloc[:, 266] - data_1nm.iloc[:, 450]\n",
        "#c = [float(i[-9:]) - float(c[0][-9:]) for i in c]\n",
        "#compare_wl(c, d)\n",
        "\n",
        "#e = data_2nm.iloc[:,0]\n",
        "#f = data_2nm.iloc[:, 134] - data_2nm.iloc[:, 226]\n",
        "#e = [float(i[-9:]) - float(e[0][-9:]) for i in e]\n",
        "#compare_wl(e, f)\n",
        "\n",
        "\n",
        "plt.xlabel('time [s]')\n",
        "plt.ylabel('Intensity [au]')\n",
        "plt.title(str(data.columns[2000]) + 'nm - ' + (data.columns[3500]) + 'nm')\n",
        "plt.legend(['original', '1nm'])\n",
        "plt.show()"
      ],
      "metadata": {
        "colab": {
          "base_uri": "https://localhost:8080/",
          "height": 623
        },
        "id": "eos0wqn2WtNI",
        "outputId": "573d0a56-fc15-4318-d5ef-d2038ac97a2c"
      },
      "execution_count": 221,
      "outputs": [
        {
          "output_type": "error",
          "ename": "IndexError",
          "evalue": "ignored",
          "traceback": [
            "\u001b[0;31m---------------------------------------------------------------------------\u001b[0m",
            "\u001b[0;31mIndexError\u001b[0m                                Traceback (most recent call last)",
            "\u001b[0;32m<ipython-input-221-76fbdfe650d6>\u001b[0m in \u001b[0;36m<module>\u001b[0;34m()\u001b[0m\n\u001b[1;32m     23\u001b[0m \u001b[0;34m\u001b[0m\u001b[0m\n\u001b[1;32m     24\u001b[0m \u001b[0mc\u001b[0m \u001b[0;34m=\u001b[0m \u001b[0mdata_1nm\u001b[0m\u001b[0;34m.\u001b[0m\u001b[0miloc\u001b[0m\u001b[0;34m[\u001b[0m\u001b[0;34m:\u001b[0m\u001b[0;34m,\u001b[0m\u001b[0;36m0\u001b[0m\u001b[0;34m]\u001b[0m\u001b[0;34m\u001b[0m\u001b[0;34m\u001b[0m\u001b[0m\n\u001b[0;32m---> 25\u001b[0;31m \u001b[0md\u001b[0m \u001b[0;34m=\u001b[0m \u001b[0mdata_1nm\u001b[0m\u001b[0;34m.\u001b[0m\u001b[0miloc\u001b[0m\u001b[0;34m[\u001b[0m\u001b[0;34m:\u001b[0m\u001b[0;34m,\u001b[0m \u001b[0;36m266\u001b[0m\u001b[0;34m]\u001b[0m \u001b[0;34m-\u001b[0m \u001b[0mdata_1nm\u001b[0m\u001b[0;34m.\u001b[0m\u001b[0miloc\u001b[0m\u001b[0;34m[\u001b[0m\u001b[0;34m:\u001b[0m\u001b[0;34m,\u001b[0m \u001b[0;36m450\u001b[0m\u001b[0;34m]\u001b[0m\u001b[0;34m\u001b[0m\u001b[0;34m\u001b[0m\u001b[0m\n\u001b[0m\u001b[1;32m     26\u001b[0m \u001b[0mc\u001b[0m \u001b[0;34m=\u001b[0m \u001b[0;34m[\u001b[0m\u001b[0mfloat\u001b[0m\u001b[0;34m(\u001b[0m\u001b[0mi\u001b[0m\u001b[0;34m[\u001b[0m\u001b[0;34m-\u001b[0m\u001b[0;36m9\u001b[0m\u001b[0;34m:\u001b[0m\u001b[0;34m]\u001b[0m\u001b[0;34m)\u001b[0m \u001b[0;34m-\u001b[0m \u001b[0mfloat\u001b[0m\u001b[0;34m(\u001b[0m\u001b[0mc\u001b[0m\u001b[0;34m[\u001b[0m\u001b[0;36m0\u001b[0m\u001b[0;34m]\u001b[0m\u001b[0;34m[\u001b[0m\u001b[0;34m-\u001b[0m\u001b[0;36m9\u001b[0m\u001b[0;34m:\u001b[0m\u001b[0;34m]\u001b[0m\u001b[0;34m)\u001b[0m \u001b[0;32mfor\u001b[0m \u001b[0mi\u001b[0m \u001b[0;32min\u001b[0m \u001b[0mc\u001b[0m\u001b[0;34m]\u001b[0m\u001b[0;34m\u001b[0m\u001b[0;34m\u001b[0m\u001b[0m\n\u001b[1;32m     27\u001b[0m \u001b[0mcompare_wl\u001b[0m\u001b[0;34m(\u001b[0m\u001b[0mc\u001b[0m\u001b[0;34m,\u001b[0m \u001b[0md\u001b[0m\u001b[0;34m)\u001b[0m\u001b[0;34m\u001b[0m\u001b[0;34m\u001b[0m\u001b[0m\n",
            "\u001b[0;32m/usr/local/lib/python3.7/dist-packages/pandas/core/indexing.py\u001b[0m in \u001b[0;36m__getitem__\u001b[0;34m(self, key)\u001b[0m\n\u001b[1;32m    923\u001b[0m                 \u001b[0;32mwith\u001b[0m \u001b[0msuppress\u001b[0m\u001b[0;34m(\u001b[0m\u001b[0mKeyError\u001b[0m\u001b[0;34m,\u001b[0m \u001b[0mIndexError\u001b[0m\u001b[0;34m)\u001b[0m\u001b[0;34m:\u001b[0m\u001b[0;34m\u001b[0m\u001b[0;34m\u001b[0m\u001b[0m\n\u001b[1;32m    924\u001b[0m                     \u001b[0;32mreturn\u001b[0m \u001b[0mself\u001b[0m\u001b[0;34m.\u001b[0m\u001b[0mobj\u001b[0m\u001b[0;34m.\u001b[0m\u001b[0m_get_value\u001b[0m\u001b[0;34m(\u001b[0m\u001b[0;34m*\u001b[0m\u001b[0mkey\u001b[0m\u001b[0;34m,\u001b[0m \u001b[0mtakeable\u001b[0m\u001b[0;34m=\u001b[0m\u001b[0mself\u001b[0m\u001b[0;34m.\u001b[0m\u001b[0m_takeable\u001b[0m\u001b[0;34m)\u001b[0m\u001b[0;34m\u001b[0m\u001b[0;34m\u001b[0m\u001b[0m\n\u001b[0;32m--> 925\u001b[0;31m             \u001b[0;32mreturn\u001b[0m \u001b[0mself\u001b[0m\u001b[0;34m.\u001b[0m\u001b[0m_getitem_tuple\u001b[0m\u001b[0;34m(\u001b[0m\u001b[0mkey\u001b[0m\u001b[0;34m)\u001b[0m\u001b[0;34m\u001b[0m\u001b[0;34m\u001b[0m\u001b[0m\n\u001b[0m\u001b[1;32m    926\u001b[0m         \u001b[0;32melse\u001b[0m\u001b[0;34m:\u001b[0m\u001b[0;34m\u001b[0m\u001b[0;34m\u001b[0m\u001b[0m\n\u001b[1;32m    927\u001b[0m             \u001b[0;31m# we by definition only have the 0th axis\u001b[0m\u001b[0;34m\u001b[0m\u001b[0;34m\u001b[0m\u001b[0;34m\u001b[0m\u001b[0m\n",
            "\u001b[0;32m/usr/local/lib/python3.7/dist-packages/pandas/core/indexing.py\u001b[0m in \u001b[0;36m_getitem_tuple\u001b[0;34m(self, tup)\u001b[0m\n\u001b[1;32m   1504\u001b[0m     \u001b[0;32mdef\u001b[0m \u001b[0m_getitem_tuple\u001b[0m\u001b[0;34m(\u001b[0m\u001b[0mself\u001b[0m\u001b[0;34m,\u001b[0m \u001b[0mtup\u001b[0m\u001b[0;34m:\u001b[0m \u001b[0mtuple\u001b[0m\u001b[0;34m)\u001b[0m\u001b[0;34m:\u001b[0m\u001b[0;34m\u001b[0m\u001b[0;34m\u001b[0m\u001b[0m\n\u001b[1;32m   1505\u001b[0m \u001b[0;34m\u001b[0m\u001b[0m\n\u001b[0;32m-> 1506\u001b[0;31m         \u001b[0mself\u001b[0m\u001b[0;34m.\u001b[0m\u001b[0m_has_valid_tuple\u001b[0m\u001b[0;34m(\u001b[0m\u001b[0mtup\u001b[0m\u001b[0;34m)\u001b[0m\u001b[0;34m\u001b[0m\u001b[0;34m\u001b[0m\u001b[0m\n\u001b[0m\u001b[1;32m   1507\u001b[0m         \u001b[0;32mwith\u001b[0m \u001b[0msuppress\u001b[0m\u001b[0;34m(\u001b[0m\u001b[0mIndexingError\u001b[0m\u001b[0;34m)\u001b[0m\u001b[0;34m:\u001b[0m\u001b[0;34m\u001b[0m\u001b[0;34m\u001b[0m\u001b[0m\n\u001b[1;32m   1508\u001b[0m             \u001b[0;32mreturn\u001b[0m \u001b[0mself\u001b[0m\u001b[0;34m.\u001b[0m\u001b[0m_getitem_lowerdim\u001b[0m\u001b[0;34m(\u001b[0m\u001b[0mtup\u001b[0m\u001b[0;34m)\u001b[0m\u001b[0;34m\u001b[0m\u001b[0;34m\u001b[0m\u001b[0m\n",
            "\u001b[0;32m/usr/local/lib/python3.7/dist-packages/pandas/core/indexing.py\u001b[0m in \u001b[0;36m_has_valid_tuple\u001b[0;34m(self, key)\u001b[0m\n\u001b[1;32m    752\u001b[0m         \u001b[0;32mfor\u001b[0m \u001b[0mi\u001b[0m\u001b[0;34m,\u001b[0m \u001b[0mk\u001b[0m \u001b[0;32min\u001b[0m \u001b[0menumerate\u001b[0m\u001b[0;34m(\u001b[0m\u001b[0mkey\u001b[0m\u001b[0;34m)\u001b[0m\u001b[0;34m:\u001b[0m\u001b[0;34m\u001b[0m\u001b[0;34m\u001b[0m\u001b[0m\n\u001b[1;32m    753\u001b[0m             \u001b[0;32mtry\u001b[0m\u001b[0;34m:\u001b[0m\u001b[0;34m\u001b[0m\u001b[0;34m\u001b[0m\u001b[0m\n\u001b[0;32m--> 754\u001b[0;31m                 \u001b[0mself\u001b[0m\u001b[0;34m.\u001b[0m\u001b[0m_validate_key\u001b[0m\u001b[0;34m(\u001b[0m\u001b[0mk\u001b[0m\u001b[0;34m,\u001b[0m \u001b[0mi\u001b[0m\u001b[0;34m)\u001b[0m\u001b[0;34m\u001b[0m\u001b[0;34m\u001b[0m\u001b[0m\n\u001b[0m\u001b[1;32m    755\u001b[0m             \u001b[0;32mexcept\u001b[0m \u001b[0mValueError\u001b[0m \u001b[0;32mas\u001b[0m \u001b[0merr\u001b[0m\u001b[0;34m:\u001b[0m\u001b[0;34m\u001b[0m\u001b[0;34m\u001b[0m\u001b[0m\n\u001b[1;32m    756\u001b[0m                 raise ValueError(\n",
            "\u001b[0;32m/usr/local/lib/python3.7/dist-packages/pandas/core/indexing.py\u001b[0m in \u001b[0;36m_validate_key\u001b[0;34m(self, key, axis)\u001b[0m\n\u001b[1;32m   1407\u001b[0m             \u001b[0;32mreturn\u001b[0m\u001b[0;34m\u001b[0m\u001b[0;34m\u001b[0m\u001b[0m\n\u001b[1;32m   1408\u001b[0m         \u001b[0;32melif\u001b[0m \u001b[0mis_integer\u001b[0m\u001b[0;34m(\u001b[0m\u001b[0mkey\u001b[0m\u001b[0;34m)\u001b[0m\u001b[0;34m:\u001b[0m\u001b[0;34m\u001b[0m\u001b[0;34m\u001b[0m\u001b[0m\n\u001b[0;32m-> 1409\u001b[0;31m             \u001b[0mself\u001b[0m\u001b[0;34m.\u001b[0m\u001b[0m_validate_integer\u001b[0m\u001b[0;34m(\u001b[0m\u001b[0mkey\u001b[0m\u001b[0;34m,\u001b[0m \u001b[0maxis\u001b[0m\u001b[0;34m)\u001b[0m\u001b[0;34m\u001b[0m\u001b[0;34m\u001b[0m\u001b[0m\n\u001b[0m\u001b[1;32m   1410\u001b[0m         \u001b[0;32melif\u001b[0m \u001b[0misinstance\u001b[0m\u001b[0;34m(\u001b[0m\u001b[0mkey\u001b[0m\u001b[0;34m,\u001b[0m \u001b[0mtuple\u001b[0m\u001b[0;34m)\u001b[0m\u001b[0;34m:\u001b[0m\u001b[0;34m\u001b[0m\u001b[0;34m\u001b[0m\u001b[0m\n\u001b[1;32m   1411\u001b[0m             \u001b[0;31m# a tuple should already have been caught by this point\u001b[0m\u001b[0;34m\u001b[0m\u001b[0;34m\u001b[0m\u001b[0;34m\u001b[0m\u001b[0m\n",
            "\u001b[0;32m/usr/local/lib/python3.7/dist-packages/pandas/core/indexing.py\u001b[0m in \u001b[0;36m_validate_integer\u001b[0;34m(self, key, axis)\u001b[0m\n\u001b[1;32m   1498\u001b[0m         \u001b[0mlen_axis\u001b[0m \u001b[0;34m=\u001b[0m \u001b[0mlen\u001b[0m\u001b[0;34m(\u001b[0m\u001b[0mself\u001b[0m\u001b[0;34m.\u001b[0m\u001b[0mobj\u001b[0m\u001b[0;34m.\u001b[0m\u001b[0m_get_axis\u001b[0m\u001b[0;34m(\u001b[0m\u001b[0maxis\u001b[0m\u001b[0;34m)\u001b[0m\u001b[0;34m)\u001b[0m\u001b[0;34m\u001b[0m\u001b[0;34m\u001b[0m\u001b[0m\n\u001b[1;32m   1499\u001b[0m         \u001b[0;32mif\u001b[0m \u001b[0mkey\u001b[0m \u001b[0;34m>=\u001b[0m \u001b[0mlen_axis\u001b[0m \u001b[0;32mor\u001b[0m \u001b[0mkey\u001b[0m \u001b[0;34m<\u001b[0m \u001b[0;34m-\u001b[0m\u001b[0mlen_axis\u001b[0m\u001b[0;34m:\u001b[0m\u001b[0;34m\u001b[0m\u001b[0;34m\u001b[0m\u001b[0m\n\u001b[0;32m-> 1500\u001b[0;31m             \u001b[0;32mraise\u001b[0m \u001b[0mIndexError\u001b[0m\u001b[0;34m(\u001b[0m\u001b[0;34m\"single positional indexer is out-of-bounds\"\u001b[0m\u001b[0;34m)\u001b[0m\u001b[0;34m\u001b[0m\u001b[0;34m\u001b[0m\u001b[0m\n\u001b[0m\u001b[1;32m   1501\u001b[0m \u001b[0;34m\u001b[0m\u001b[0m\n\u001b[1;32m   1502\u001b[0m     \u001b[0;31m# -------------------------------------------------------------------\u001b[0m\u001b[0;34m\u001b[0m\u001b[0;34m\u001b[0m\u001b[0;34m\u001b[0m\u001b[0m\n",
            "\u001b[0;31mIndexError\u001b[0m: single positional indexer is out-of-bounds"
          ]
        },
        {
          "output_type": "display_data",
          "data": {
            "text/plain": [
              "<Figure size 432x288 with 1 Axes>"
            ],
            "image/png": "[encoded data removed]"
          },
          "metadata": {
            "needs_background": "light"
          }
        }
      ]
    },
    {
      "cell_type": "code",
      "source": [
        ""
      ],
      "metadata": {
        "id": "IDgZE6I-cReY"
      },
      "execution_count": null,
      "outputs": []
    }
  ]
}